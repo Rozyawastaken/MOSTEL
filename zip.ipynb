{
 "cells": [
  {
   "cell_type": "code",
   "execution_count": 1,
   "id": "380a7924-c2d4-4748-b47d-dc81336133dd",
   "metadata": {
    "tags": []
   },
   "outputs": [
    {
     "name": "stdout",
     "output_type": "stream",
     "text": [
      "Untitled.ipynb\t\t train_step-180000.model  train_step-290000.model\n",
      "log.txt\t\t\t train_step-190000.model  train_step-30000.model\n",
      "tensorboard\t\t train_step-20000.model   train_step-300000.model\n",
      "train_step-10000.model\t train_step-200000.model  train_step-40000.model\n",
      "train_step-100000.model  train_step-210000.model  train_step-50000.model\n",
      "train_step-110000.model  train_step-220000.model  train_step-60000.model\n",
      "train_step-120000.model  train_step-230000.model  train_step-70000.model\n",
      "train_step-130000.model  train_step-240000.model  train_step-80000.model\n",
      "train_step-140000.model  train_step-250000.model  train_step-90000.model\n",
      "train_step-150000.model  train_step-260000.model  val_visualization\n",
      "train_step-160000.model  train_step-270000.model\n",
      "train_step-170000.model  train_step-280000.model\n"
     ]
    }
   ],
   "source": [
    "!ls"
   ]
  },
  {
   "cell_type": "code",
   "execution_count": 2,
   "id": "c5d05ac2-845e-4436-8fa3-d8bb17f7ffae",
   "metadata": {
    "tags": []
   },
   "outputs": [
    {
     "name": "stderr",
     "output_type": "stream",
     "text": [
      "Zipping: 100%|██████████| 30/30 [02:21<00:00,  4.71s/it]\n"
     ]
    }
   ],
   "source": [
    "import zipfile\n",
    "import os\n",
    "from tqdm import tqdm\n",
    "\n",
    "folder = '/workspace/MOSTEL/output/mostel-train'\n",
    "output_zip = 'YULA-checkpoints.zip'\n",
    "\n",
    "model_files = [f for f in os.listdir(folder) if f.endswith('.model')]\n",
    "\n",
    "with zipfile.ZipFile(output_zip, 'w') as zipf:\n",
    "    for f in tqdm(model_files, desc='Zipping'):\n",
    "        zipf.write(os.path.join(folder, f), arcname=f)\n"
   ]
  },
  {
   "cell_type": "code",
   "execution_count": 8,
   "id": "660c897a-382f-44c0-81c6-b22fc1512431",
   "metadata": {
    "tags": []
   },
   "outputs": [
    {
     "name": "stderr",
     "output_type": "stream",
     "text": [
      "Zipping (folder 0): 100%|██████████| 1/1 [00:00<00:00, 980.89it/s]\n",
      "Zipping (folder 1): 100%|██████████| 14682/14682 [00:51<00:00, 285.04it/s]\n",
      "Zipping (folder 2): 100%|██████████| 1/1 [00:00<00:00, 1370.69it/s]\n",
      "Zipping (folder 3): 100%|██████████| 14682/14682 [00:49<00:00, 296.08it/s]\n",
      "Zipping (folder 4): 100%|██████████| 14682/14682 [00:43<00:00, 338.86it/s]\n",
      "Zipping (folder 5): 100%|██████████| 14682/14682 [00:54<00:00, 267.76it/s]\n",
      "Zipping (folder 6): 100%|██████████| 14682/14682 [00:49<00:00, 295.02it/s]\n",
      "Zipping (folder 7): 100%|██████████| 14682/14682 [00:54<00:00, 270.45it/s]\n",
      "Zipping (folder 8): 100%|██████████| 14682/14682 [00:49<00:00, 299.17it/s]\n",
      "Zipping (folder 9): 100%|██████████| 14682/14682 [00:53<00:00, 274.49it/s]\n",
      "Zipping (folder 10): 100%|██████████| 14682/14682 [00:47<00:00, 309.84it/s]\n",
      "Zipping (folder 11): 100%|██████████| 14682/14682 [00:49<00:00, 297.31it/s]\n",
      "Zipping (folder 12): 100%|██████████| 14682/14682 [00:48<00:00, 301.33it/s]\n",
      "Zipping (folder 13): 100%|██████████| 14682/14682 [00:14<00:00, 1009.43it/s]\n",
      "Zipping (folder 14): 100%|██████████| 14682/14682 [00:14<00:00, 1015.77it/s]\n",
      "Zipping (folder 15): 100%|██████████| 14682/14682 [00:14<00:00, 1021.93it/s]\n",
      "Zipping (folder 16): 100%|██████████| 14682/14682 [00:14<00:00, 1003.67it/s]\n",
      "Zipping (folder 17): 100%|██████████| 14682/14682 [00:14<00:00, 1010.12it/s]\n",
      "Zipping (folder 18): 100%|██████████| 14682/14682 [00:14<00:00, 1018.66it/s]\n",
      "Zipping (folder 19): 100%|██████████| 14682/14682 [00:14<00:00, 1000.75it/s]\n",
      "Zipping (folder 20): 100%|██████████| 14682/14682 [00:14<00:00, 1006.94it/s]\n",
      "Zipping (folder 21): 100%|██████████| 14682/14682 [00:14<00:00, 1009.26it/s]\n",
      "Zipping (folder 22): 100%|██████████| 14682/14682 [00:14<00:00, 997.06it/s] \n",
      "Zipping (folder 23): 100%|██████████| 14682/14682 [00:14<00:00, 1002.08it/s]\n",
      "Zipping (folder 24): 100%|██████████| 14682/14682 [00:14<00:00, 1020.22it/s]\n",
      "Zipping (folder 25): 100%|██████████| 14682/14682 [00:14<00:00, 998.81it/s] \n",
      "Zipping (folder 26): 100%|██████████| 14682/14682 [00:37<00:00, 394.37it/s] \n",
      "Zipping (folder 27): 100%|██████████| 14682/14682 [00:17<00:00, 828.75it/s] \n",
      "Zipping (folder 28): 100%|██████████| 14682/14682 [00:14<00:00, 1001.82it/s]\n",
      "Zipping (folder 29): 100%|██████████| 14682/14682 [00:14<00:00, 1011.44it/s]\n",
      "Zipping (folder 30): 100%|██████████| 14682/14682 [00:14<00:00, 985.91it/s] \n",
      "Zipping (folder 31): 100%|██████████| 14682/14682 [00:14<00:00, 1002.27it/s]\n",
      "Zipping (folder 32): 0it [00:00, ?it/s]\n"
     ]
    }
   ],
   "source": [
    "import zipfile\n",
    "import os\n",
    "from tqdm import tqdm\n",
    "\n",
    "folder = '/workspace/MOSTEL/output/validation'\n",
    "output_zip = '/workspace/MOSTEL/output/validation/validation.zip'\n",
    "\n",
    "with zipfile.ZipFile(output_zip, 'w', zipfile.ZIP_DEFLATED) as zipf:\n",
    "    for i, (root, dirs, files) in enumerate(os.walk(folder)):\n",
    "        for file in tqdm(files, desc=f'Zipping (folder {i})'):\n",
    "            filepath = os.path.join(root, file)\n",
    "            arcname = os.path.relpath(filepath, folder)\n",
    "            zipf.write(filepath, arcname=arcname)\n"
   ]
  },
  {
   "cell_type": "code",
   "execution_count": 9,
   "id": "cca77320-7c73-4df4-97ca-6ddda087a0c2",
   "metadata": {
    "tags": []
   },
   "outputs": [
    {
     "name": "stderr",
     "output_type": "stream",
     "text": [
      "Zipping (folder 0): 100%|██████████| 1/1 [00:00<00:00, 1370.24it/s]\n",
      "Zipping (folder 1): 100%|██████████| 14751/14751 [00:14<00:00, 1010.04it/s]\n",
      "Zipping (folder 2): 100%|██████████| 14751/14751 [00:14<00:00, 1009.51it/s]\n"
     ]
    }
   ],
   "source": [
    "import zipfile\n",
    "import os\n",
    "from tqdm import tqdm\n",
    "\n",
    "folder = '/workspace/MOSTEL/output/testing'\n",
    "output_zip = '/workspace/MOSTEL/output/testing/testing.zip'\n",
    "\n",
    "with zipfile.ZipFile(output_zip, 'w', zipfile.ZIP_DEFLATED) as zipf:\n",
    "    for i, (root, dirs, files) in enumerate(os.walk(folder)):\n",
    "        for file in tqdm(files, desc=f'Zipping (folder {i})'):\n",
    "            filepath = os.path.join(root, file)\n",
    "            arcname = os.path.relpath(filepath, folder)\n",
    "            zipf.write(filepath, arcname=arcname)"
   ]
  },
  {
   "cell_type": "code",
   "execution_count": 10,
   "id": "c4e89dd3-ed95-42ef-87b0-cbb79f2df130",
   "metadata": {
    "tags": []
   },
   "outputs": [
    {
     "name": "stderr",
     "output_type": "stream",
     "text": [
      "Zipping (folder 0): 0it [00:00, ?it/s]\n",
      "Zipping (folder 1): 100%|██████████| 14751/14751 [00:13<00:00, 1055.41it/s]\n",
      "Zipping (folder 2): 100%|██████████| 12/12 [00:00<00:00, 1119.92it/s]\n"
     ]
    }
   ],
   "source": [
    "import zipfile\n",
    "import os\n",
    "from tqdm import tqdm\n",
    "\n",
    "folder = '/workspace/MOSTEL/output/testing-switched'\n",
    "output_zip = '/workspace/MOSTEL/output/testing/testing-switched.zip'\n",
    "\n",
    "with zipfile.ZipFile(output_zip, 'w', zipfile.ZIP_DEFLATED) as zipf:\n",
    "    for i, (root, dirs, files) in enumerate(os.walk(folder)):\n",
    "        for file in tqdm(files, desc=f'Zipping (folder {i})'):\n",
    "            filepath = os.path.join(root, file)\n",
    "            arcname = os.path.relpath(filepath, folder)\n",
    "            zipf.write(filepath, arcname=arcname)\n"
   ]
  },
  {
   "cell_type": "code",
   "execution_count": null,
   "id": "8f507e30-0a34-49b4-81ce-8bfe3848cf50",
   "metadata": {},
   "outputs": [],
   "source": [
    "!python -m pip install paddlepaddle-gpu==2.6.1.post112 -f https://www.paddlepaddle.org.cn/whl/linux/mkl/avx/stable.html"
   ]
  },
  {
   "cell_type": "code",
   "execution_count": 2,
   "id": "d4c3adf7-cff3-4955-a80d-f46aa5def0bf",
   "metadata": {
    "tags": []
   },
   "outputs": [
    {
     "name": "stdout",
     "output_type": "stream",
     "text": [
      "YULA-checkpoints.zip\t train_step-180000.model  train_step-290000.model\n",
      "log.txt\t\t\t train_step-190000.model  train_step-30000.model\n",
      "tensorboard\t\t train_step-20000.model   train_step-300000.model\n",
      "train_step-10000.model\t train_step-200000.model  train_step-40000.model\n",
      "train_step-100000.model  train_step-210000.model  train_step-50000.model\n",
      "train_step-110000.model  train_step-220000.model  train_step-60000.model\n",
      "train_step-120000.model  train_step-230000.model  train_step-70000.model\n",
      "train_step-130000.model  train_step-240000.model  train_step-80000.model\n",
      "train_step-140000.model  train_step-250000.model  train_step-90000.model\n",
      "train_step-150000.model  train_step-260000.model  val_visualization\n",
      "train_step-160000.model  train_step-270000.model  zip.ipynb\n",
      "train_step-170000.model  train_step-280000.model\n"
     ]
    }
   ],
   "source": [
    "!ls"
   ]
  },
  {
   "cell_type": "code",
   "execution_count": 7,
   "id": "ddd31e52-ab1f-4fab-8c02-65480255dfd0",
   "metadata": {
    "tags": []
   },
   "outputs": [
    {
     "name": "stdout",
     "output_type": "stream",
     "text": [
      "MOSTEL\tmain.ipynb  onstart.sh\tports.log  tensorboard.ipynb\n"
     ]
    }
   ],
   "source": [
    "!ls"
   ]
  },
  {
   "cell_type": "code",
   "execution_count": null,
   "id": "31019768-1001-4f9d-92ee-fcd248a8c538",
   "metadata": {},
   "outputs": [],
   "source": [
    "!"
   ]
  },
  {
   "cell_type": "code",
   "execution_count": null,
   "id": "a5eac2db-003b-4ed2-9a68-289b337d0a4c",
   "metadata": {},
   "outputs": [],
   "source": [
    "ocr = PaddleOCR(use_angle_cls=True, det_db_thresh = 0.4, det_db_box_thresh = 0.5,det_db_unclip_ratio = 1.4, max_batch_size = 32,\n",
    "                det_limit_side_len = 1000, det_db_score_mode = \"slow\", dilation = False, lang='japan', ocr_version = \"PP-OCRv4\")\n",
    "result = ocr.ocr(img_path, cls=True)"
   ]
  }
 ],
 "metadata": {
  "kernelspec": {
   "display_name": "Python 3 (ipykernel)",
   "language": "python",
   "name": "python3"
  },
  "language_info": {
   "codemirror_mode": {
    "name": "ipython",
    "version": 3
   },
   "file_extension": ".py",
   "mimetype": "text/x-python",
   "name": "python",
   "nbconvert_exporter": "python",
   "pygments_lexer": "ipython3",
   "version": "3.7.11"
  }
 },
 "nbformat": 4,
 "nbformat_minor": 5
}
